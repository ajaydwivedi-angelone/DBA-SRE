{
    "metadata": {
        "kernelspec": {
            "name": "powershell",
            "display_name": "PowerShell",
            "language": "powershell"
        },
        "language_info": {
            "name": "powershell",
            "codemirror_mode": "shell",
            "mimetype": "text/x-sh",
            "file_extension": ".ps1"
        }
    },
    "nbformat_minor": 2,
    "nbformat": 4,
    "cells": [
        {
            "cell_type": "markdown",
            "source": [
                "# [Sql Server First Reponder Kit](https://github.com/BrentOzarULTD/SQL-Server-First-Responder-Kit/tree/main)\n",
                "\n",
                "You're a DBA, sysadmin, or developer who manages Microsoft SQL Servers. It's your fault if they're down or slow. These tools help you understand what's going on in your server.\n",
                "\n",
                "- When you want an overall health check, run sp\\_Blitz.\n",
                "- To learn which queries have been using the most resources, run sp\\_BlitzCache.\n",
                "- To analyze which indexes are missing or slowing you down, run sp\\_BlitzIndex.\n",
                "- To find out why the server is slow right now, run sp\\_BlitzFirst."
            ],
            "metadata": {
                "azdata_cell_guid": "c2c957d1-80f4-4c14-a50a-bc2d8c2cf87a"
            },
            "attachments": {}
        },
        {
            "cell_type": "markdown",
            "source": [
                "## Install First Responder Kit"
            ],
            "metadata": {
                "azdata_cell_guid": "4023732c-1804-4df8-89fb-e6f640a68b57"
            },
            "attachments": {}
        },
        {
            "cell_type": "code",
            "source": [
                "Import-Module dbatools\r\n",
                "$ServerName = @('196.1.115.201')\r\n",
                "\r\n",
                "Install-DbaFirstResponderKit -SqlInstance $ServerName -Database master -Verbose"
            ],
            "metadata": {
                "azdata_cell_guid": "01450a3f-1942-4db1-ab71-caf8285502d5",
                "tags": []
            },
            "outputs": [
                {
                    "name": "stdout",
                    "text": "VERBOSE: Performing the operation \"Connecting to 196.1.115.201\" on target \"196.1.115.201\".\n",
                    "output_type": "stream"
                },
                {
                    "name": "stdout",
                    "text": "VERBOSE: [09:54:29][Connect-DbaInstance] String is passed in, will build server object from instance object and other \nparameters, do some checks and then return the server object\nVERBOSE: [09:54:29][Connect-DbaInstance] authentication method is 'local integrated'\n",
                    "output_type": "stream"
                },
                {
                    "name": "stdout",
                    "text": "WARNING: [09:54:44][Install-DbaFirstResponderKit] Error occurred while establishing connection to 196.1.115.201 | Login\n failed. The login is from an untrusted domain and cannot be used with Windows authentication.\n",
                    "output_type": "stream"
                }
            ],
            "execution_count": 1
        },
        {
            "cell_type": "markdown",
            "source": [
                "## [sp\\_Blitz: Overall Health Check](https://github.com/BrentOzarULTD/SQL-Server-First-Responder-Kit/tree/main#sp_blitz-overall-health-check)"
            ],
            "metadata": {
                "azdata_cell_guid": "479007bb-0c8d-4467-a771-539b0a1bdec8"
            },
            "attachments": {}
        },
        {
            "cell_type": "code",
            "source": [
                "$sp_BlitzResult = Invoke-DbaQuery -SqlInstance $ServerName -Database master -Query \"EXEC sp_blitz @CheckServerInfo = 1\"\r\n",
                "$sp_BlitzResult | Out-GridView"
            ],
            "metadata": {
                "azdata_cell_guid": "242adae2-10c5-435e-a51d-6809ff7b74dd",
                "tags": [
                    "hide_input"
                ]
            },
            "outputs": [
                {
                    "output_type": "stream",
                    "name": "stdout",
                    "text": ""
                }
            ],
            "execution_count": 5
        },
        {
            "cell_type": "markdown",
            "source": [
                "## [Logging sp\\_BlitzFirst using SQL Agent Job](https://github.com/BrentOzarULTD/SQL-Server-First-Responder-Kit/tree/main#logging-sp_blitzfirst-to-tables)  \n",
                "\n",
                "Execute below tsql that creates job named '' with schedule of every 15 minutes.\n",
                "\n",
                "Make sure a Job Category named '<span style=\"color: rgb(163, 21, 21); font-family: Consolas, &quot;Courier New&quot;, monospace; font-size: 12px; white-space: pre;\">(dba)&nbsp;Monitoring&nbsp;&amp;&nbsp;Alerting</span>' exists. Also, chage value of <span style=\"color: rgb(163, 21, 21); font-family: Consolas, &quot;Courier New&quot;, monospace; font-size: 12px; white-space: pre;\">@OutputDatabaseName</span> on **line 39** if required."
            ],
            "metadata": {
                "azdata_cell_guid": "b3f41154-a499-4d3f-841e-e8c3b68cfb49"
            },
            "attachments": {}
        },
        {
            "cell_type": "code",
            "source": [
                "$sqlCreateJob = @\"\r\n",
                "USE [msdb]\r\n",
                "GO\r\n",
                "\r\n",
                "BEGIN TRANSACTION\r\n",
                "DECLARE @ReturnCode INT\r\n",
                "SELECT @ReturnCode = 0\r\n",
                "IF NOT EXISTS (SELECT name FROM msdb.dbo.syscategories WHERE name=N'(dba) Monitoring & Alerting' AND category_class=1)\r\n",
                "BEGIN\r\n",
                "EXEC @ReturnCode = msdb.dbo.sp_add_category @class=N'JOB', @type=N'LOCAL', @name=N'(dba) Monitoring & Alerting'\r\n",
                "IF (@@ERROR <> 0 OR @ReturnCode <> 0) GOTO QuitWithRollback\r\n",
                "\r\n",
                "END\r\n",
                "\r\n",
                "DECLARE @jobId BINARY(16)\r\n",
                "EXEC @ReturnCode =  msdb.dbo.sp_add_job @job_name=N'(dba) Run First-Responder-Kit', \r\n",
                "\t\t@enabled=1, \r\n",
                "\t\t@notify_level_eventlog=0, \r\n",
                "\t\t@notify_level_email=0, \r\n",
                "\t\t@notify_level_netsend=0, \r\n",
                "\t\t@notify_level_page=0, \r\n",
                "\t\t@delete_level=0, \r\n",
                "\t\t@description=N'Caputure stats using sp_BlitzFirst', \r\n",
                "\t\t@category_name=N'(dba) Monitoring & Alerting', \r\n",
                "\t\t@owner_login_name=N'sa', @job_id = @jobId OUTPUT\r\n",
                "IF (@@ERROR <> 0 OR @ReturnCode <> 0) GOTO QuitWithRollback\r\n",
                "\r\n",
                "EXEC @ReturnCode = msdb.dbo.sp_add_jobstep @job_id=@jobId, @step_name=N'(dba) Run First-Responder-Kit', \r\n",
                "\t\t@step_id=1, \r\n",
                "\t\t@cmdexec_success_code=0, \r\n",
                "\t\t@on_success_action=1, \r\n",
                "\t\t@on_success_step_id=0, \r\n",
                "\t\t@on_fail_action=2, \r\n",
                "\t\t@on_fail_step_id=0, \r\n",
                "\t\t@retry_attempts=0, \r\n",
                "\t\t@retry_interval=0, \r\n",
                "\t\t@os_run_priority=0, @subsystem=N'TSQL', \r\n",
                "\t\t@command=N'exec sp_BlitzFirst\r\n",
                "\t@OutputDatabaseName = ''DBA'',\r\n",
                "\t@OutputSchemaName = ''dbo'',\r\n",
                "\t@OutputTableName = ''BlitzFirst'',\r\n",
                "\t@OutputTableNameFileStats = ''BlitzFirst_FileStats'',\r\n",
                "\t@OutputTableNamePerfmonStats = ''BlitzFirst_PerfmonStats'',\r\n",
                "\t@OutputTableNameWaitStats = ''BlitzFirst_WaitStats'',\r\n",
                "\t@OutputTableNameBlitzCache = ''BlitzCache'',\r\n",
                "\t@OutputTableNameBlitzWho = ''BlitzWho''', \r\n",
                "\t\t@database_name=N'master', \r\n",
                "\t\t@flags=12\r\n",
                "IF (@@ERROR <> 0 OR @ReturnCode <> 0) GOTO QuitWithRollback\r\n",
                "EXEC @ReturnCode = msdb.dbo.sp_update_job @job_id = @jobId, @start_step_id = 1\r\n",
                "IF (@@ERROR <> 0 OR @ReturnCode <> 0) GOTO QuitWithRollback\r\n",
                "EXEC @ReturnCode = msdb.dbo.sp_add_jobschedule @job_id=@jobId, @name=N'(dba) Run First-Responder-Kit', \r\n",
                "\t\t@enabled=1, \r\n",
                "\t\t@freq_type=4, \r\n",
                "\t\t@freq_interval=1, \r\n",
                "\t\t@freq_subday_type=4, \r\n",
                "\t\t@freq_subday_interval=10, \r\n",
                "\t\t@freq_relative_interval=0, \r\n",
                "\t\t@freq_recurrence_factor=0, \r\n",
                "\t\t@active_start_date=20220318, \r\n",
                "\t\t@active_end_date=99991231, \r\n",
                "\t\t@active_start_time=0, \r\n",
                "\t\t@active_end_time=235959, \r\n",
                "\t\t@schedule_uid=N'fcd79fa8-3d9d-4b30-88d0-9a14081e3339'\r\n",
                "IF (@@ERROR <> 0 OR @ReturnCode <> 0) GOTO QuitWithRollback\r\n",
                "EXEC @ReturnCode = msdb.dbo.sp_add_jobserver @job_id = @jobId, @server_name = N'(local)'\r\n",
                "IF (@@ERROR <> 0 OR @ReturnCode <> 0) GOTO QuitWithRollback\r\n",
                "COMMIT TRANSACTION\r\n",
                "GOTO EndSave\r\n",
                "QuitWithRollback:\r\n",
                "    IF (@@TRANCOUNT > 0) ROLLBACK TRANSACTION\r\n",
                "EndSave:\r\n",
                "GO\r\n",
                "\r\n",
                "\"@\r\n",
                "\r\n",
                "Invoke-DbaQuery -SqlInstance $ServerName -Database master -Query $sqlCreateJob\r\n",
                "\r\n",
                "$sqlStartJob = \"exec msdb..sp_start_job @job_name = '(dba) Run First-Responder-Kit'\"\r\n",
                "Invoke-DbaQuery -SqlInstance $ServerName -Database master -Query $sqlStartJob\r\n",
                ""
            ],
            "metadata": {
                "azdata_cell_guid": "d863995e-eb0a-4a98-af3f-3de00ccd0874",
                "tags": [
                    "hide_input"
                ]
            },
            "outputs": [
                {
                    "output_type": "stream",
                    "name": "stdout",
                    "text": ""
                }
            ],
            "execution_count": 7
        }
    ]
}